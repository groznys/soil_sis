{
 "cells": [
  {
   "cell_type": "code",
   "execution_count": 3,
   "metadata": {},
   "outputs": [
    {
     "data": {
      "text/plain": [
       "array([[ 1.,  1.,  0., -1., -1., -1.]])"
      ]
     },
     "execution_count": 3,
     "metadata": {},
     "output_type": "execute_result"
    }
   ],
   "source": [
    "import numpy as np\n",
    "\n",
    "def gradients(x: np.ndarray) -> np.ndarray:\n",
    "    return np.apply_along_axis(np.gradient, 1, x)\n",
    "\n",
    "a = np.array([[2,3,4,3,2,1]])\n",
    "gradients(a)"
   ]
  }
 ],
 "metadata": {
  "interpreter": {
   "hash": "575c7347c99b0abc1a7695882a342cd99b02b525f9b346c8d5666d4d51abf953"
  },
  "kernelspec": {
   "display_name": "Python 3.9.5 64-bit ('3.9.5')",
   "language": "python",
   "name": "python3"
  },
  "language_info": {
   "codemirror_mode": {
    "name": "ipython",
    "version": 3
   },
   "file_extension": ".py",
   "mimetype": "text/x-python",
   "name": "python",
   "nbconvert_exporter": "python",
   "pygments_lexer": "ipython3",
   "version": "3.9.5"
  },
  "orig_nbformat": 4
 },
 "nbformat": 4,
 "nbformat_minor": 2
}
