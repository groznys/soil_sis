{
 "cells": [
  {
   "cell_type": "code",
   "execution_count": 2,
   "id": "793fc05e",
   "metadata": {},
   "outputs": [],
   "source": [
    "import pandas as pd\n",
    "import numpy as np\n",
    "import geopandas as gpd\n",
    "import os\n",
    "from shapely.affinity import scale\n",
    "from shapely.geometry import Point, Polygon\n",
    "import plotly.express as px\n",
    "import matplotlib.pyplot as plt\n",
    "from pandas import DataFrame as DF, Series as S\n",
    "from scipy.stats import skew\n",
    "from sklearn.cluster import KMeans\n",
    "from sklearn.manifold import TSNE\n",
    "from sklearn.decomposition import PCA\n",
    "from peakutils import baseline\n",
    "from sklearn.model_selection import train_test_split\n",
    "from sklearn.metrics import r2_score\n",
    "from sklearn.cross_decomposition import PLSRegression  # noqa: E402\n",
    "from sklearn.ensemble import (  # noqa: E402\n",
    "    ExtraTreesRegressor,  # noqa: E402\n",
    ")\n",
    "from scipy.signal import savgol_filter\n",
    "import funcy\n",
    "import random\n",
    "from sklearn.compose import TransformedTargetRegressor\n",
    "from sklearn.model_selection import cross_val_score\n",
    "from sklearn.preprocessing import KBinsDiscretizer\n",
    "from caching import Cache\n",
    "from sklearn.cluster import KMeans\n",
    "import seaborn as sns\n",
    "from functools import lru_cache, reduce\n",
    "from custom_split import GroupKFold, StratifiedKFold, KFold\n",
    "import scipy"
   ]
  },
  {
   "cell_type": "code",
   "execution_count": 5,
   "id": "f3872065",
   "metadata": {},
   "outputs": [],
   "source": [
    "wet = pd.read_csv(\"/media/Data/jp_dir/sis/usda/extracted_metadata/c_622_measured_vnir.csv\")\n",
    "dry = pd.read_csv(\"/media/Data/jp_dir/sis/usda/vnir_spectres/vnirlib.csv\")"
   ]
  },
  {
   "cell_type": "code",
   "execution_count": null,
   "id": "6959a012",
   "metadata": {},
   "outputs": [],
   "source": []
  }
 ],
 "metadata": {
  "kernelspec": {
   "display_name": "venv",
   "language": "python",
   "name": "venv"
  },
  "language_info": {
   "codemirror_mode": {
    "name": "ipython",
    "version": 3
   },
   "file_extension": ".py",
   "mimetype": "text/x-python",
   "name": "python",
   "nbconvert_exporter": "python",
   "pygments_lexer": "ipython3",
   "version": "3.8.10"
  }
 },
 "nbformat": 4,
 "nbformat_minor": 5
}
